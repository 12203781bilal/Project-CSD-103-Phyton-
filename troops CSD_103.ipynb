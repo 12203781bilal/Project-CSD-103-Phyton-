{
 "cells": [
  {
   "cell_type": "code",
   "execution_count": 3,
   "id": "478b33e1",
   "metadata": {},
   "outputs": [],
   "source": [
    "import numpy as np\n",
    "import pandas as pd\n",
    "import matplotlib.pyplot as plt\n",
    "import seaborn as sns"
   ]
  },
  {
   "cell_type": "code",
   "execution_count": 4,
   "id": "3a99ad83",
   "metadata": {},
   "outputs": [],
   "source": [
    "data=pd.read_csv(r\"C:\\Users\\lbhar\\OneDrive\\Desktop\\wine_Sales - Raw Data.xlsx - wine_Sales - Raw Data.csv\")"
   ]
  },
  {
   "cell_type": "code",
   "execution_count": 5,
   "id": "ded49831",
   "metadata": {},
   "outputs": [
    {
     "data": {
      "text/html": [
       "<div>\n",
       "<style scoped>\n",
       "    .dataframe tbody tr th:only-of-type {\n",
       "        vertical-align: middle;\n",
       "    }\n",
       "\n",
       "    .dataframe tbody tr th {\n",
       "        vertical-align: top;\n",
       "    }\n",
       "\n",
       "    .dataframe thead th {\n",
       "        text-align: right;\n",
       "    }\n",
       "</style>\n",
       "<table border=\"1\" class=\"dataframe\">\n",
       "  <thead>\n",
       "    <tr style=\"text-align: right;\">\n",
       "      <th></th>\n",
       "      <th>Row ID</th>\n",
       "      <th>Discount %</th>\n",
       "      <th>Unit Price</th>\n",
       "      <th>Freight expense</th>\n",
       "      <th>Name</th>\n",
       "      <th>Freight Mode</th>\n",
       "      <th>Segment</th>\n",
       "      <th>Region</th>\n",
       "      <th>Priority</th>\n",
       "      <th>Sub Segment</th>\n",
       "      <th>Name of Item</th>\n",
       "      <th>Packaging Type</th>\n",
       "      <th>City</th>\n",
       "      <th>Date of placing order</th>\n",
       "      <th>Date of Dispatch</th>\n",
       "      <th>Order quantity</th>\n",
       "      <th>Revenue</th>\n",
       "      <th>Order ID</th>\n",
       "      <th>Country</th>\n",
       "      <th>State or Province</th>\n",
       "    </tr>\n",
       "  </thead>\n",
       "  <tbody>\n",
       "    <tr>\n",
       "      <th>0</th>\n",
       "      <td>9316</td>\n",
       "      <td>5.00%</td>\n",
       "      <td>0.99</td>\n",
       "      <td>2.96</td>\n",
       "      <td>Harry Lee</td>\n",
       "      <td>Express Road Cargo</td>\n",
       "      <td>Rose / Sparkling Wine</td>\n",
       "      <td>East</td>\n",
       "      <td>Critical</td>\n",
       "      <td>Chardonnay</td>\n",
       "      <td>Hewitson LuLu Sauvignon Blanc 2014</td>\n",
       "      <td>Standard Size Crate</td>\n",
       "      <td>Newcastle</td>\n",
       "      <td>6/18/2013</td>\n",
       "      <td>6/19/2013</td>\n",
       "      <td>6</td>\n",
       "      <td>5.94</td>\n",
       "      <td>90902</td>\n",
       "      <td>Australia</td>\n",
       "      <td>Western Australia</td>\n",
       "    </tr>\n",
       "    <tr>\n",
       "      <th>1</th>\n",
       "      <td>8286</td>\n",
       "      <td>3.00%</td>\n",
       "      <td>0.99</td>\n",
       "      <td>2.96</td>\n",
       "      <td>Brandon Franklin</td>\n",
       "      <td>Express Road Cargo</td>\n",
       "      <td>Rose / Sparkling Wine</td>\n",
       "      <td>South</td>\n",
       "      <td>Not Specified</td>\n",
       "      <td>Reisling</td>\n",
       "      <td>Villa Maria Private Bin Sauvignon Blanc 2015</td>\n",
       "      <td>Standard Size Crate</td>\n",
       "      <td>Canberra</td>\n",
       "      <td>11/22/2011</td>\n",
       "      <td>11/23/2011</td>\n",
       "      <td>9</td>\n",
       "      <td>8.91</td>\n",
       "      <td>86596</td>\n",
       "      <td>Australia</td>\n",
       "      <td>New South Wales</td>\n",
       "    </tr>\n",
       "    <tr>\n",
       "      <th>2</th>\n",
       "      <td>2538</td>\n",
       "      <td>0.00%</td>\n",
       "      <td>1.14</td>\n",
       "      <td>0.70</td>\n",
       "      <td>Stephanie Mccoy</td>\n",
       "      <td>Road Cargo</td>\n",
       "      <td>Red Wine</td>\n",
       "      <td>North</td>\n",
       "      <td>High</td>\n",
       "      <td>Zinfandel</td>\n",
       "      <td>Domaine Lafond Roc-Epine Tavel Rose 2014</td>\n",
       "      <td>Full Container</td>\n",
       "      <td>Gladstone</td>\n",
       "      <td>2013-10-12</td>\n",
       "      <td>2013-12-12</td>\n",
       "      <td>7</td>\n",
       "      <td>7.98</td>\n",
       "      <td>86330</td>\n",
       "      <td>Australia</td>\n",
       "      <td>Western Australia</td>\n",
       "    </tr>\n",
       "    <tr>\n",
       "      <th>3</th>\n",
       "      <td>862</td>\n",
       "      <td>9.00%</td>\n",
       "      <td>1.14</td>\n",
       "      <td>0.70</td>\n",
       "      <td>Bobby Hayes</td>\n",
       "      <td>Express Road Cargo</td>\n",
       "      <td>Red Wine</td>\n",
       "      <td>West</td>\n",
       "      <td>Low</td>\n",
       "      <td>Malbec</td>\n",
       "      <td>Lucien Albrecht Cremant d'Alsace Brut Rose</td>\n",
       "      <td>Full Container</td>\n",
       "      <td>Rockingham</td>\n",
       "      <td>10/30/2013</td>\n",
       "      <td>2013-03-11</td>\n",
       "      <td>59</td>\n",
       "      <td>67.26</td>\n",
       "      <td>48706</td>\n",
       "      <td>Australia</td>\n",
       "      <td>Victoria</td>\n",
       "    </tr>\n",
       "  </tbody>\n",
       "</table>\n",
       "</div>"
      ],
      "text/plain": [
       "   Row ID Discount %  Unit Price  Freight expense              Name  \\\n",
       "0    9316      5.00%        0.99             2.96         Harry Lee   \n",
       "1    8286      3.00%        0.99             2.96  Brandon Franklin   \n",
       "2    2538      0.00%        1.14             0.70   Stephanie Mccoy   \n",
       "3     862      9.00%        1.14             0.70       Bobby Hayes   \n",
       "\n",
       "         Freight Mode                Segment Region       Priority  \\\n",
       "0  Express Road Cargo  Rose / Sparkling Wine   East       Critical   \n",
       "1  Express Road Cargo  Rose / Sparkling Wine  South  Not Specified   \n",
       "2          Road Cargo               Red Wine  North           High   \n",
       "3  Express Road Cargo               Red Wine   West            Low   \n",
       "\n",
       "  Sub Segment                                  Name of Item  \\\n",
       "0  Chardonnay            Hewitson LuLu Sauvignon Blanc 2014   \n",
       "1    Reisling  Villa Maria Private Bin Sauvignon Blanc 2015   \n",
       "2   Zinfandel      Domaine Lafond Roc-Epine Tavel Rose 2014   \n",
       "3      Malbec    Lucien Albrecht Cremant d'Alsace Brut Rose   \n",
       "\n",
       "        Packaging Type        City Date of placing order Date of Dispatch  \\\n",
       "0  Standard Size Crate   Newcastle             6/18/2013        6/19/2013   \n",
       "1  Standard Size Crate    Canberra            11/22/2011       11/23/2011   \n",
       "2       Full Container   Gladstone            2013-10-12       2013-12-12   \n",
       "3       Full Container  Rockingham            10/30/2013       2013-03-11   \n",
       "\n",
       "   Order quantity  Revenue  Order ID    Country  State or Province  \n",
       "0               6     5.94     90902  Australia  Western Australia  \n",
       "1               9     8.91     86596  Australia    New South Wales  \n",
       "2               7     7.98     86330  Australia  Western Australia  \n",
       "3              59    67.26     48706  Australia           Victoria  "
      ]
     },
     "execution_count": 5,
     "metadata": {},
     "output_type": "execute_result"
    }
   ],
   "source": [
    "data.head(4)"
   ]
  },
  {
   "cell_type": "code",
   "execution_count": 6,
   "id": "3dee148b",
   "metadata": {},
   "outputs": [
    {
     "data": {
      "image/png": "[encoded data removed]",
      "text/plain": [
       "<Figure size 720x432 with 1 Axes>"
      ]
     },
     "metadata": {
      "needs_background": "light"
     },
     "output_type": "display_data"
    }
   ],
   "source": [
    "revenue_by_region = data.groupby('Region')['Revenue'].sum()\n",
    "revenue_by_region.plot(kind='bar', figsize=(10, 6))\n",
    "plt.xlabel('Region')\n",
    "plt.ylabel('Total Revenue')\n",
    "plt.title('Total Revenue by Region')\n",
    "plt.xticks(rotation=45)  \n",
    "plt.show()\n",
    "#bar graph showing the total revenue for each region in your dataset. Adjust the code as needed to match your data source and column names if they are different."
   ]
  },
  {
   "cell_type": "code",
   "execution_count": 22,
   "id": "6437c18f",
   "metadata": {},
   "outputs": [
    {
     "data": {
      "image/png": "[encoded data removed]",
      "text/plain": [
       "<Figure size 576x432 with 1 Axes>"
      ]
     },
     "metadata": {
      "needs_background": "light"
     },
     "output_type": "display_data"
    }
   ],
   "source": [
    "plt.figure(figsize=(8, 6))\n",
    "plt.scatter(data['Revenue'], data['Unit Price'], alpha=0.5)\n",
    "plt.xlabel('Total Revenue')\n",
    "plt.ylabel('Total Cost')\n",
    "plt.title('Total Revenue vs Total Cost')\n",
    "plt.show()"
   ]
  },
  {
   "cell_type": "code",
   "execution_count": 8,
   "id": "307754aa",
   "metadata": {},
   "outputs": [
    {
     "data": {
      "image/png": "[encoded data removed]",
      "text/plain": [
       "<Figure size 720x432 with 1 Axes>"
      ]
     },
     "metadata": {
      "needs_background": "light"
     },
     "output_type": "display_data"
    }
   ],
   "source": [
    "discount_percentage = data['Discount %'].str.rstrip('%').astype(float)  \n",
    "revenue = data['Revenue']\n",
    "plt.figure(figsize=(10, 6))\n",
    "plt.scatter(discount_percentage, revenue, alpha=0.5) \n",
    "plt.xlabel('Discount %')\n",
    "plt.ylabel('Revenue')\n",
    "plt.title('Scatter Plot of Discount % vs. Revenue')\n",
    "plt.grid(True)  \n",
    "plt.show()"
   ]
  },
  {
   "cell_type": "code",
   "execution_count": 9,
   "id": "be08e9f5",
   "metadata": {},
   "outputs": [
    {
     "data": {
      "image/png": "[encoded data removed]",
      "text/plain": [
       "<Figure size 720x432 with 1 Axes>"
      ]
     },
     "metadata": {
      "needs_background": "light"
     },
     "output_type": "display_data"
    }
   ],
   "source": [
    "plt.figure(figsize=(10, 6))\n",
    "plt.hist(data['Revenue'], bins=20, color='blue', alpha=0.7)\n",
    "plt.xlabel('Revenue')\n",
    "plt.ylabel('Frequency')\n",
    "plt.title('Histogram of Revenue')\n",
    "plt.show()"
   ]
  },
  {
   "cell_type": "code",
   "execution_count": 10,
   "id": "912a01d3",
   "metadata": {},
   "outputs": [
    {
     "data": {
      "image/png": "[encoded data removed]",
      "text/plain": [
       "<Figure size 720x432 with 1 Axes>"
      ]
     },
     "metadata": {
      "needs_background": "light"
     },
     "output_type": "display_data"
    }
   ],
   "source": [
    "plt.figure(figsize=(10, 6))\n",
    "plt.boxplot(data['Revenue'])\n",
    "plt.ylabel('Revenue')\n",
    "plt.title('Box Plot of Revenue')\n",
    "plt.show()"
   ]
  },
  {
   "cell_type": "code",
   "execution_count": 11,
   "id": "9a679633",
   "metadata": {},
   "outputs": [
    {
     "data": {
      "image/png": "[encoded data removed]",
      "text/plain": [
       "<Figure size 576x432 with 2 Axes>"
      ]
     },
     "metadata": {
      "needs_background": "light"
     },
     "output_type": "display_data"
    }
   ],
   "source": [
    "numerical_data = data[['Discount %', 'Unit Price', 'Revenue']]\n",
    "corr_matrix = numerical_data.corr()\n",
    "plt.figure(figsize=(8, 6))\n",
    "sns.heatmap(corr_matrix, annot=True, cmap='coolwarm')\n",
    "plt.title('Correlation Heatmap')\n",
    "plt.show()"
   ]
  },
  {
   "cell_type": "code",
   "execution_count": 12,
   "id": "0ca238f3",
   "metadata": {},
   "outputs": [
    {
     "name": "stdout",
     "output_type": "stream",
     "text": [
      "The mean revenue is: 986.48\n"
     ]
    }
   ],
   "source": [
    "revenue_mean = data['Revenue'].mean()\n",
    "\n",
    "print(f\"The mean revenue is: {revenue_mean:.2f}\")"
   ]
  },
  {
   "cell_type": "code",
   "execution_count": 13,
   "id": "04707e96",
   "metadata": {},
   "outputs": [
    {
     "name": "stdout",
     "output_type": "stream",
     "text": [
      "The median revenue is: 204.85\n"
     ]
    }
   ],
   "source": [
    "revenue_median = data['Revenue'].median()\n",
    "\n",
    "print(f\"The median revenue is: {revenue_median:.2f}\")"
   ]
  },
  {
   "cell_type": "code",
   "execution_count": 14,
   "id": "73dfeef2",
   "metadata": {},
   "outputs": [
    {
     "name": "stdout",
     "output_type": "stream",
     "text": [
      "The mode of revenue is: 51.84\n"
     ]
    }
   ],
   "source": [
    "revenue_mode = data['Revenue'].mode().iloc[0]  \n",
    "\n",
    "print(f\"The mode of revenue is: {revenue_mode:.2f}\")"
   ]
  },
  {
   "cell_type": "code",
   "execution_count": 15,
   "id": "86c1fcf5",
   "metadata": {},
   "outputs": [
    {
     "name": "stdout",
     "output_type": "stream",
     "text": [
      "The skewness of revenue is: 12.02\n"
     ]
    }
   ],
   "source": [
    "revenue_skewness = data['Revenue'].skew()\n",
    "\n",
    "print(f\"The skewness of revenue is: {revenue_skewness:.2f}\")"
   ]
  },
  {
   "cell_type": "code",
   "execution_count": 16,
   "id": "98559232",
   "metadata": {},
   "outputs": [
    {
     "name": "stdout",
     "output_type": "stream",
     "text": [
      "The variance of revenue is: 7199048.00\n"
     ]
    }
   ],
   "source": [
    "revenue_variance = data['Revenue'].var()\n",
    "\n",
    "print(f\"The variance of revenue is: {revenue_variance:.2f}\")"
   ]
  },
  {
   "cell_type": "code",
   "execution_count": 17,
   "id": "786b3f49",
   "metadata": {},
   "outputs": [
    {
     "name": "stdout",
     "output_type": "stream",
     "text": [
      "The standard deviation of revenue is: 2683.10\n"
     ]
    }
   ],
   "source": [
    "revenue_std_dev = data['Revenue'].std()\n",
    "\n",
    "print(f\"The standard deviation of revenue is: {revenue_std_dev:.2f}\")"
   ]
  },
  {
   "cell_type": "code",
   "execution_count": 18,
   "id": "fb91bea4",
   "metadata": {},
   "outputs": [
    {
     "name": "stdout",
     "output_type": "stream",
     "text": [
      "The kurtosis of revenue is: 291.31\n"
     ]
    }
   ],
   "source": [
    "revenue_kurtosis = data['Revenue'].kurt()\n",
    "\n",
    "print(f\"The kurtosis of revenue is: {revenue_kurtosis:.2f}\")"
   ]
  },
  {
   "cell_type": "code",
   "execution_count": 19,
   "id": "a7cfd99b",
   "metadata": {},
   "outputs": [
    {
     "name": "stdout",
     "output_type": "stream",
     "text": [
      "Q1 (25th percentile): 59.87\n",
      "Q2 (50th percentile, median): 204.85\n",
      "Q3 (75th percentile): 817.70\n",
      "IQR (Interquartile Range): 757.84\n"
     ]
    }
   ],
   "source": [
    "revenue_quartiles = data['Revenue'].quantile([0.25, 0.5, 0.75])\n",
    "revenue_iqr = revenue_quartiles[0.75] - revenue_quartiles[0.25]\n",
    "\n",
    "print(f\"Q1 (25th percentile): {revenue_quartiles[0.25]:.2f}\")\n",
    "print(f\"Q2 (50th percentile, median): {revenue_quartiles[0.5]:.2f}\")\n",
    "print(f\"Q3 (75th percentile): {revenue_quartiles[0.75]:.2f}\")\n",
    "print(f\"IQR (Interquartile Range): {revenue_iqr:.2f}\")"
   ]
  },
  {
   "cell_type": "code",
   "execution_count": 20,
   "id": "ebc8a507",
   "metadata": {},
   "outputs": [
    {
     "data": {
      "image/png": "[encoded data removed]",
      "text/plain": [
       "<Figure size 720x432 with 1 Axes>"
      ]
     },
     "metadata": {
      "needs_background": "light"
     },
     "output_type": "display_data"
    }
   ],
   "source": [
    "region = data.groupby('Region')['Revenue'].sum().nlargest(10)\n",
    "region.plot(kind='bar', figsize=(10, 6))\n",
    "plt.xlabel('region')\n",
    "plt.ylabel('Total Revenue')\n",
    "plt.title('regions by Total Revenue')\n",
    "plt.show()"
   ]
  },
  {
   "cell_type": "code",
   "execution_count": 24,
   "id": "fdac189e",
   "metadata": {},
   "outputs": [
    {
     "name": "stdout",
     "output_type": "stream",
     "text": [
      "Measures of Central Tendency:\n",
      "Mean: 986.4822312373237\n",
      "Median: 204.85\n",
      "Mode: 51.84\n",
      "\n",
      "Measures of Variability:\n",
      "Range: 102192.54\n",
      "Variance: 7199048.0014043925\n",
      "Standard Deviation: 2683.104172670974\n",
      "IQR: 757.8399999999999\n",
      "\n",
      "Shape of the Distribution:\n",
      "Skewness: 12.019337500306374\n",
      "Kurtosis: 291.30736889763494\n"
     ]
    }
   ],
   "source": [
    "revenue = data['Revenue']\n",
    "\n",
    "mean = revenue.mean()\n",
    "median = revenue.median()\n",
    "mode = revenue.mode()[0]  \n",
    "\n",
    "range_val = revenue.max() - revenue.min()\n",
    "variance = revenue.var()\n",
    "std_dev = revenue.std()\n",
    "q1 = revenue.quantile(0.25)\n",
    "q3 = revenue.quantile(0.75)\n",
    "iqr = q3 - q1\n",
    "\n",
    "skewness = revenue.skew()\n",
    "kurtosis = revenue.kurtosis()\n",
    "\n",
    "print(f\"Measures of Central Tendency:\")\n",
    "print(f\"Mean: {mean}\")\n",
    "print(f\"Median: {median}\")\n",
    "print(f\"Mode: {mode}\\n\")\n",
    "\n",
    "print(f\"Measures of Variability:\")\n",
    "print(f\"Range: {range_val}\")\n",
    "print(f\"Variance: {variance}\")\n",
    "print(f\"Standard Deviation: {std_dev}\")\n",
    "print(f\"IQR: {iqr}\\n\")\n",
    "\n",
    "print(f\"Shape of the Distribution:\")\n",
    "print(f\"Skewness: {skewness}\")\n",
    "print(f\"Kurtosis: {kurtosis}\")"
   ]
  },
  {
   "cell_type": "code",
   "execution_count": 25,
   "id": "47c9f325",
   "metadata": {},
   "outputs": [
    {
     "name": "stdout",
     "output_type": "stream",
     "text": [
      "Measures of Central Tendency:\n",
      "Mean: 88.2196733212328\n",
      "Median: 20.99\n",
      "Mode: 6.48\n",
      "\n",
      "Measures of Variability:\n",
      "Range: 6782.030000000001\n",
      "Variance: 79366.69694864411\n",
      "Standard Deviation: 281.72095582090463\n",
      "IQR: 79.50999999999999\n",
      "\n",
      "Shape of the Distribution:\n",
      "Skewness: 14.169763381575555\n",
      "Kurtosis: 277.4103333473066\n"
     ]
    }
   ],
   "source": [
    "revenue = data['Unit Price']\n",
    "\n",
    "mean = revenue.mean()\n",
    "median = revenue.median()\n",
    "mode = revenue.mode()[0]  \n",
    "\n",
    "range_val = revenue.max() - revenue.min()\n",
    "variance = revenue.var()\n",
    "std_dev = revenue.std()\n",
    "q1 = revenue.quantile(0.25)\n",
    "q3 = revenue.quantile(0.75)\n",
    "iqr = q3 - q1\n",
    "\n",
    "skewness = revenue.skew()\n",
    "kurtosis = revenue.kurtosis()\n",
    "\n",
    "print(f\"Measures of Central Tendency:\")\n",
    "print(f\"Mean: {mean}\")\n",
    "print(f\"Median: {median}\")\n",
    "print(f\"Mode: {mode}\\n\")\n",
    "\n",
    "print(f\"Measures of Variability:\")\n",
    "print(f\"Range: {range_val}\")\n",
    "print(f\"Variance: {variance}\")\n",
    "print(f\"Standard Deviation: {std_dev}\")\n",
    "print(f\"IQR: {iqr}\\n\")\n",
    "\n",
    "print(f\"Shape of the Distribution:\")\n",
    "print(f\"Skewness: {skewness}\")\n",
    "print(f\"Kurtosis: {kurtosis}\")"
   ]
  },
  {
   "cell_type": "code",
   "execution_count": 27,
   "id": "6a5bd601",
   "metadata": {},
   "outputs": [
    {
     "name": "stdout",
     "output_type": "stream",
     "text": [
      "Measures of Central Tendency:\n",
      "Mean: 13.802071100672574\n",
      "Median: 10.0\n",
      "Mode: 1\n",
      "\n",
      "Measures of Variability:\n",
      "Range: 169\n",
      "Variance: 228.74920348288177\n",
      "Standard Deviation: 15.124457130187574\n",
      "IQR: 12.0\n",
      "\n",
      "Shape of the Distribution:\n",
      "Skewness: 3.5303728748285623\n",
      "Kurtosis: 19.023952134774454\n"
     ]
    }
   ],
   "source": [
    "revenue = data['Order quantity']\n",
    "\n",
    "mean = revenue.mean()\n",
    "median = revenue.median()\n",
    "mode = revenue.mode()[0]  \n",
    "\n",
    "range_val = revenue.max() - revenue.min()\n",
    "variance = revenue.var()\n",
    "std_dev = revenue.std()\n",
    "q1 = revenue.quantile(0.25)\n",
    "q3 = revenue.quantile(0.75)\n",
    "iqr = q3 - q1\n",
    "\n",
    "skewness = revenue.skew()\n",
    "kurtosis = revenue.kurtosis()\n",
    "\n",
    "print(f\"Measures of Central Tendency:\")\n",
    "print(f\"Mean: {mean}\")\n",
    "print(f\"Median: {median}\")\n",
    "print(f\"Mode: {mode}\\n\")\n",
    "\n",
    "print(f\"Measures of Variability:\")\n",
    "print(f\"Range: {range_val}\")\n",
    "print(f\"Variance: {variance}\")\n",
    "print(f\"Standard Deviation: {std_dev}\")\n",
    "print(f\"IQR: {iqr}\\n\")\n",
    "\n",
    "print(f\"Shape of the Distribution:\")\n",
    "print(f\"Skewness: {skewness}\")\n",
    "print(f\"Kurtosis: {kurtosis}\")"
   ]
  },
  {
   "cell_type": "code",
   "execution_count": 32,
   "id": "f4e4443d",
   "metadata": {},
   "outputs": [
    {
     "name": "stdout",
     "output_type": "stream",
     "text": [
      "Measures of Central Tendency:\n",
      "Mean: 0.0496348884381324\n",
      "Median: 0.05\n",
      "Mode: 0.01\n",
      "\n",
      "Measures of Variability:\n",
      "Range: 0.25\n",
      "Variance: 0.0010125935637901539\n",
      "Standard Deviation: 0.03182127533255312\n",
      "IQR: 0.06\n",
      "\n",
      "Shape of the Distribution:\n",
      "Skewness: 0.07131797130870583\n",
      "Kurtosis: -0.9877443408111022\n"
     ]
    }
   ],
   "source": [
    "\n",
    "revenue = data['Discount %'].str.rstrip('%').astype('float') / 100\n",
    "\n",
    "mean = revenue.mean()\n",
    "median = revenue.median()\n",
    "mode = revenue.mode()[0]  \n",
    "\n",
    "range_val = revenue.max() - revenue.min()\n",
    "variance = revenue.var()\n",
    "std_dev = revenue.std()\n",
    "q1 = revenue.quantile(0.25)\n",
    "q3 = revenue.quantile(0.75)\n",
    "iqr = q3 - q1\n",
    "\n",
    "skewness = revenue.skew()\n",
    "kurtosis = revenue.kurtosis()\n",
    "\n",
    "print(f\"Measures of Central Tendency:\")\n",
    "print(f\"Mean: {mean}\")\n",
    "print(f\"Median: {median}\")\n",
    "print(f\"Mode: {mode}\\n\")\n",
    "\n",
    "print(f\"Measures of Variability:\")\n",
    "print(f\"Range: {range_val}\")\n",
    "print(f\"Variance: {variance}\")\n",
    "print(f\"Standard Deviation: {std_dev}\")\n",
    "print(f\"IQR: {iqr}\\n\")\n",
    "\n",
    "print(f\"Shape of the Distribution:\")\n",
    "print(f\"Skewness: {skewness}\")\n",
    "print(f\"Kurtosis: {kurtosis}\")\n"
   ]
  },
  {
   "cell_type": "code",
   "execution_count": 34,
   "id": "050116ff",
   "metadata": {},
   "outputs": [
    {
     "name": "stdout",
     "output_type": "stream",
     "text": [
      "Measures of Central Tendency:\n",
      "Mean: 12.778750934130686\n",
      "Median: 6.05\n",
      "Mode: 19.99\n",
      "\n",
      "Measures of Variability:\n",
      "Range: 164.23999999999998\n",
      "Variance: 294.2707889585659\n",
      "Standard Deviation: 17.15432274846681\n",
      "IQR: 10.85\n",
      "\n",
      "Shape of the Distribution:\n",
      "Skewness: 2.546089299681753\n",
      "Kurtosis: 7.673840859037517\n"
     ]
    }
   ],
   "source": [
    "revenue = data['Freight expense']\n",
    "\n",
    "mean = revenue.mean()\n",
    "median = revenue.median()\n",
    "mode = revenue.mode()[0]  \n",
    "\n",
    "range_val = revenue.max() - revenue.min()\n",
    "variance = revenue.var()\n",
    "std_dev = revenue.std()\n",
    "q1 = revenue.quantile(0.25)\n",
    "q3 = revenue.quantile(0.75)\n",
    "iqr = q3 - q1\n",
    "\n",
    "skewness = revenue.skew()\n",
    "kurtosis = revenue.kurtosis()\n",
    "\n",
    "print(f\"Measures of Central Tendency:\")\n",
    "print(f\"Mean: {mean}\")\n",
    "print(f\"Median: {median}\")\n",
    "print(f\"Mode: {mode}\\n\")\n",
    "\n",
    "print(f\"Measures of Variability:\")\n",
    "print(f\"Range: {range_val}\")\n",
    "print(f\"Variance: {variance}\")\n",
    "print(f\"Standard Deviation: {std_dev}\")\n",
    "print(f\"IQR: {iqr}\\n\")\n",
    "\n",
    "print(f\"Shape of the Distribution:\")\n",
    "print(f\"Skewness: {skewness}\")\n",
    "print(f\"Kurtosis: {kurtosis}\")"
   ]
  },
  {
   "cell_type": "code",
   "execution_count": 37,
   "id": "4b3cdb8b",
   "metadata": {},
   "outputs": [
    {
     "name": "stdout",
     "output_type": "stream",
     "text": [
      "             Revenue   Unit Price  Order quantity  Freight expense  Range  \\\n",
      "count    9367.000000  9367.000000     9367.000000      9367.000000    NaN   \n",
      "mean      986.482231    88.219673       13.802071        12.778751    NaN   \n",
      "std      2683.104173   281.720956       15.124457        17.154323    NaN   \n",
      "min         1.140000     0.990000        1.000000         0.490000    NaN   \n",
      "25%        59.865000     6.480000        5.000000         3.140000    NaN   \n",
      "50%       204.850000    20.990000       10.000000         6.050000    NaN   \n",
      "75%       817.705000    85.990000       17.000000        13.990000    NaN   \n",
      "max    102193.680000  6783.020000      170.000000       164.730000    NaN   \n",
      "\n",
      "       Variance  Standard Deviation  Skewness  Kurtosis  \n",
      "count       NaN                 NaN       NaN       NaN  \n",
      "mean        NaN                 NaN       NaN       NaN  \n",
      "std         NaN                 NaN       NaN       NaN  \n",
      "min         NaN                 NaN       NaN       NaN  \n",
      "25%         NaN                 NaN       NaN       NaN  \n",
      "50%         NaN                 NaN       NaN       NaN  \n",
      "75%         NaN                 NaN       NaN       NaN  \n",
      "max         NaN                 NaN       NaN       NaN  \n"
     ]
    }
   ],
   "source": [
    "numerical_data = data[['Revenue', 'Unit Price', 'Order quantity', 'Freight expense'] ]\n",
    "statistics = numerical_data.describe()\n",
    "range_values = numerical_data.max() - numerical_data.min()\n",
    "variance = numerical_data.var()\n",
    "standard_deviation = numerical_data.std()\n",
    "skewness = numerical_data.skew()\n",
    "kurtosis = numerical_data.kurtosis()\n",
    "\n",
    "statistics['Range'] = range_values\n",
    "statistics['Variance'] = variance\n",
    "statistics['Standard Deviation'] = standard_deviation\n",
    "statistics['Skewness'] = skewness\n",
    "statistics['Kurtosis'] = kurtosis\n",
    "print(statistics)"
   ]
  },
  {
   "cell_type": "code",
   "execution_count": null,
   "id": "e85e629e",
   "metadata": {},
   "outputs": [],
   "source": []
  }
 ],
 "metadata": {
  "kernelspec": {
   "display_name": "Python 3 (ipykernel)",
   "language": "python",
   "name": "python3"
  },
  "language_info": {
   "codemirror_mode": {
    "name": "ipython",
    "version": 3
   },
   "file_extension": ".py",
   "mimetype": "text/x-python",
   "name": "python",
   "nbconvert_exporter": "python",
   "pygments_lexer": "ipython3",
   "version": "3.9.12"
  }
 },
 "nbformat": 4,
 "nbformat_minor": 5
}
